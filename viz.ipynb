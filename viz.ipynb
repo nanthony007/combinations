{
 "cells": [
  {
   "cell_type": "code",
   "execution_count": 13,
   "metadata": {},
   "outputs": [],
   "source": [
    "import pandas as pd\n",
    "from pyvis.network import Network\n",
    "import networkx as nx"
   ]
  },
  {
   "cell_type": "code",
   "execution_count": 2,
   "metadata": {},
   "outputs": [
    {
     "data": {
      "text/html": [
       "<div>\n",
       "<style scoped>\n",
       "    .dataframe tbody tr th:only-of-type {\n",
       "        vertical-align: middle;\n",
       "    }\n",
       "\n",
       "    .dataframe tbody tr th {\n",
       "        vertical-align: top;\n",
       "    }\n",
       "\n",
       "    .dataframe thead th {\n",
       "        text-align: right;\n",
       "    }\n",
       "</style>\n",
       "<table border=\"1\" class=\"dataframe\">\n",
       "  <thead>\n",
       "    <tr style=\"text-align: right;\">\n",
       "      <th></th>\n",
       "      <th>Source</th>\n",
       "      <th>Target</th>\n",
       "      <th>CohortNum</th>\n",
       "      <th>CohortText</th>\n",
       "      <th>Weight</th>\n",
       "    </tr>\n",
       "  </thead>\n",
       "  <tbody>\n",
       "    <tr>\n",
       "      <th>0</th>\n",
       "      <td>amphetamine</td>\n",
       "      <td>meth</td>\n",
       "      <td>1.0</td>\n",
       "      <td>Stimulant</td>\n",
       "      <td>743</td>\n",
       "    </tr>\n",
       "    <tr>\n",
       "      <th>1</th>\n",
       "      <td>cannabinoids</td>\n",
       "      <td>meth</td>\n",
       "      <td>1.0</td>\n",
       "      <td>Stimulant</td>\n",
       "      <td>450</td>\n",
       "    </tr>\n",
       "    <tr>\n",
       "      <th>2</th>\n",
       "      <td>amphetamine</td>\n",
       "      <td>cannabinoids</td>\n",
       "      <td>1.0</td>\n",
       "      <td>Stimulant</td>\n",
       "      <td>348</td>\n",
       "    </tr>\n",
       "    <tr>\n",
       "      <th>3</th>\n",
       "      <td>meth</td>\n",
       "      <td>morphine</td>\n",
       "      <td>1.0</td>\n",
       "      <td>Stimulant</td>\n",
       "      <td>264</td>\n",
       "    </tr>\n",
       "    <tr>\n",
       "      <th>4</th>\n",
       "      <td>cannabinoids</td>\n",
       "      <td>cocaine</td>\n",
       "      <td>1.0</td>\n",
       "      <td>Stimulant</td>\n",
       "      <td>258</td>\n",
       "    </tr>\n",
       "  </tbody>\n",
       "</table>\n",
       "</div>"
      ],
      "text/plain": [
       "         Source        Target  CohortNum CohortText  Weight\n",
       "0   amphetamine          meth        1.0  Stimulant     743\n",
       "1  cannabinoids          meth        1.0  Stimulant     450\n",
       "2   amphetamine  cannabinoids        1.0  Stimulant     348\n",
       "3          meth      morphine        1.0  Stimulant     264\n",
       "4  cannabinoids       cocaine        1.0  Stimulant     258"
      ]
     },
     "execution_count": 2,
     "metadata": {},
     "output_type": "execute_result"
    }
   ],
   "source": [
    "df = pd.read_csv(\"drug_combos.csv\")\n",
    "df.head()"
   ]
  },
  {
   "cell_type": "code",
   "execution_count": 29,
   "metadata": {},
   "outputs": [],
   "source": [
    "graph = nx.Graph()\n",
    "\n",
    "for row in df.itertuples():\n",
    "    graph.add_node(\n",
    "        row.Source,\n",
    "        label=row.Source,\n",
    "        title=row.Source,\n",
    "        group=row.CohortNum,\n",
    "    )\n",
    "\n",
    "    graph.add_node(\n",
    "        row.Target,\n",
    "        label=row.Target,\n",
    "        title=row.Target,\n",
    "        group=row.CohortNum,\n",
    "    )"
   ]
  },
  {
   "cell_type": "code",
   "execution_count": 33,
   "metadata": {},
   "outputs": [],
   "source": [
    "graph = nx.Graph()"
   ]
  },
  {
   "cell_type": "code",
   "execution_count": 34,
   "metadata": {},
   "outputs": [],
   "source": [
    "def colorize(x: float) -> str:\n",
    "    if x == 1.0:\n",
    "        return \"red\"\n",
    "    elif x == 2.0:\n",
    "        return \"blue\"\n",
    "    elif x == 3.0:\n",
    "        return \"green\"\n",
    "    else:\n",
    "        raise ValueError(\"Invalid value\")"
   ]
  },
  {
   "cell_type": "code",
   "execution_count": 41,
   "metadata": {},
   "outputs": [],
   "source": [
    "for row in df.itertuples():\n",
    "    graph.add_edge(\n",
    "        row.Source,\n",
    "        row.Target,\n",
    "        label=row.CohortText,\n",
    "        title=row.CohortText,\n",
    "        weight=row.Weight,\n",
    "        color=colorize(row.CohortNum),\n",
    "    )"
   ]
  },
  {
   "cell_type": "code",
   "execution_count": null,
   "metadata": {},
   "outputs": [],
   "source": []
  },
  {
   "cell_type": "code",
   "execution_count": 42,
   "metadata": {},
   "outputs": [],
   "source": [
    "net = Network(height=\"750px\", width=\"750px\")"
   ]
  },
  {
   "cell_type": "code",
   "execution_count": 43,
   "metadata": {},
   "outputs": [],
   "source": [
    "net.from_nx(graph)\n",
    "net.toggle_physics(True)\n",
    "net.show_buttons()\n",
    "net.show(\"drug_combos.html\")"
   ]
  },
  {
   "cell_type": "code",
   "execution_count": null,
   "metadata": {},
   "outputs": [],
   "source": []
  }
 ],
 "metadata": {
  "interpreter": {
   "hash": "83d989112f6af267530a3439c889efc0785c070e51e0f5003e3b61408fbbea5f"
  },
  "kernelspec": {
   "display_name": "Python 3.10.4 ('.venv': poetry)",
   "language": "python",
   "name": "python3"
  },
  "language_info": {
   "codemirror_mode": {
    "name": "ipython",
    "version": 3
   },
   "file_extension": ".py",
   "mimetype": "text/x-python",
   "name": "python",
   "nbconvert_exporter": "python",
   "pygments_lexer": "ipython3",
   "version": "3.10.4"
  },
  "orig_nbformat": 4
 },
 "nbformat": 4,
 "nbformat_minor": 2
}
